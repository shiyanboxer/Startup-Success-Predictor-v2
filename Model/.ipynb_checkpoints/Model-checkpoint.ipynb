{
 "cells": [
  {
   "cell_type": "markdown",
   "metadata": {},
   "source": [
    "## Model.ipynb\n",
    "\n",
    "**AUTHOR:** Shiyan Boxer\n",
    "\n",
    "**DATE:** Dec 28th, 2020\n",
    "\n",
    "**DESCRIPTION:** Create the model by doing the following:\n",
    "- Choose relevant columns\n",
    "- Get dummy data\n",
    "- Split training and testing data\n",
    "- Random forest\n",
    "- Tune model with GridsearchCV\n",
    "- Test ensembles\n",
    "\n",
    "**DEPENDENCIES:**\n",
    "- Python 3.8.6\n",
    "- pandas\n",
    "- numpy \n",
    "- pickle\n",
    "- sklearn train test split\n",
    "- sklearn RandomForestRegressor\n",
    "- sklearn GridSearchCV\n",
    "- sklearn mean_absolute_error"
   ]
  },
  {
   "cell_type": "markdown",
   "metadata": {},
   "source": [
    "#### Import dependencies"
   ]
  },
  {
   "cell_type": "code",
   "execution_count": 1,
   "metadata": {},
   "outputs": [],
   "source": [
    "import pandas as pd\n",
    "import numpy as np\n",
    "import os"
   ]
  },
  {
   "cell_type": "markdown",
   "metadata": {},
   "source": [
    "#### Read file into DataFrame"
   ]
  },
  {
   "cell_type": "code",
   "execution_count": 2,
   "metadata": {
    "scrolled": true
   },
   "outputs": [
    {
     "data": {
      "text/html": [
       "<div>\n",
       "<style scoped>\n",
       "    .dataframe tbody tr th:only-of-type {\n",
       "        vertical-align: middle;\n",
       "    }\n",
       "\n",
       "    .dataframe tbody tr th {\n",
       "        vertical-align: top;\n",
       "    }\n",
       "\n",
       "    .dataframe thead th {\n",
       "        text-align: right;\n",
       "    }\n",
       "</style>\n",
       "<table border=\"1\" class=\"dataframe\">\n",
       "  <thead>\n",
       "    <tr style=\"text-align: right;\">\n",
       "      <th></th>\n",
       "      <th>permalink</th>\n",
       "      <th>name</th>\n",
       "      <th>homepage_url</th>\n",
       "      <th>category_list</th>\n",
       "      <th>market</th>\n",
       "      <th>funding_total_usd (divide by 1000)</th>\n",
       "      <th>status</th>\n",
       "      <th>country_code</th>\n",
       "      <th>state_code</th>\n",
       "      <th>region</th>\n",
       "      <th>...</th>\n",
       "      <th>product_crowdfunding</th>\n",
       "      <th>round_A</th>\n",
       "      <th>round_B</th>\n",
       "      <th>round_C</th>\n",
       "      <th>round_D</th>\n",
       "      <th>round_E</th>\n",
       "      <th>round_F</th>\n",
       "      <th>round_G</th>\n",
       "      <th>round_H</th>\n",
       "      <th>success</th>\n",
       "    </tr>\n",
       "  </thead>\n",
       "  <tbody>\n",
       "    <tr>\n",
       "      <td>0</td>\n",
       "      <td>/organization/advanced-northern-graphite-leade...</td>\n",
       "      <td>Advanced Northern Graphite Leaders</td>\n",
       "      <td>http://www.anglinc.ca</td>\n",
       "      <td>|Clean Technology|</td>\n",
       "      <td>Clean Technology</td>\n",
       "      <td>0</td>\n",
       "      <td>operating</td>\n",
       "      <td>CAN</td>\n",
       "      <td>AB</td>\n",
       "      <td>Sherwood Park</td>\n",
       "      <td>...</td>\n",
       "      <td>0</td>\n",
       "      <td>0</td>\n",
       "      <td>0</td>\n",
       "      <td>0</td>\n",
       "      <td>0</td>\n",
       "      <td>0</td>\n",
       "      <td>0</td>\n",
       "      <td>0</td>\n",
       "      <td>0</td>\n",
       "      <td>1</td>\n",
       "    </tr>\n",
       "    <tr>\n",
       "      <td>1</td>\n",
       "      <td>/organization/celebration-creation</td>\n",
       "      <td>Celebration Creation</td>\n",
       "      <td>http://www.celebrationcreation.ca</td>\n",
       "      <td>|Real Estate|</td>\n",
       "      <td>Real Estate</td>\n",
       "      <td>0</td>\n",
       "      <td>operating</td>\n",
       "      <td>CAN</td>\n",
       "      <td>AB</td>\n",
       "      <td>Calgary</td>\n",
       "      <td>...</td>\n",
       "      <td>0</td>\n",
       "      <td>0</td>\n",
       "      <td>0</td>\n",
       "      <td>0</td>\n",
       "      <td>0</td>\n",
       "      <td>0</td>\n",
       "      <td>0</td>\n",
       "      <td>0</td>\n",
       "      <td>0</td>\n",
       "      <td>1</td>\n",
       "    </tr>\n",
       "    <tr>\n",
       "      <td>2</td>\n",
       "      <td>/organization/justparts</td>\n",
       "      <td>JustParts</td>\n",
       "      <td>http://www.JustParts.com</td>\n",
       "      <td>|Auto|Marketplaces|E-Commerce|</td>\n",
       "      <td>Marketplaces</td>\n",
       "      <td>0</td>\n",
       "      <td>operating</td>\n",
       "      <td>CAN</td>\n",
       "      <td>AB</td>\n",
       "      <td>Thunder Bay</td>\n",
       "      <td>...</td>\n",
       "      <td>0</td>\n",
       "      <td>0</td>\n",
       "      <td>0</td>\n",
       "      <td>0</td>\n",
       "      <td>0</td>\n",
       "      <td>0</td>\n",
       "      <td>0</td>\n",
       "      <td>0</td>\n",
       "      <td>0</td>\n",
       "      <td>1</td>\n",
       "    </tr>\n",
       "    <tr>\n",
       "      <td>3</td>\n",
       "      <td>/organization/knighthaven</td>\n",
       "      <td>KnightHaven</td>\n",
       "      <td>http://www.knighthaven.com/</td>\n",
       "      <td>|Entertainment|Games|</td>\n",
       "      <td>Games</td>\n",
       "      <td>0</td>\n",
       "      <td>operating</td>\n",
       "      <td>CAN</td>\n",
       "      <td>AB</td>\n",
       "      <td>AB - Other</td>\n",
       "      <td>...</td>\n",
       "      <td>0</td>\n",
       "      <td>0</td>\n",
       "      <td>0</td>\n",
       "      <td>0</td>\n",
       "      <td>0</td>\n",
       "      <td>0</td>\n",
       "      <td>0</td>\n",
       "      <td>0</td>\n",
       "      <td>0</td>\n",
       "      <td>1</td>\n",
       "    </tr>\n",
       "    <tr>\n",
       "      <td>4</td>\n",
       "      <td>/organization/kotch-international-transportati...</td>\n",
       "      <td>Kotch International Transportation Design Spec...</td>\n",
       "      <td>http://www.kotchexotictours.com</td>\n",
       "      <td>|Transportation|</td>\n",
       "      <td>Transportation</td>\n",
       "      <td>0</td>\n",
       "      <td>operating</td>\n",
       "      <td>CAN</td>\n",
       "      <td>AB</td>\n",
       "      <td>AB - Other</td>\n",
       "      <td>...</td>\n",
       "      <td>0</td>\n",
       "      <td>0</td>\n",
       "      <td>0</td>\n",
       "      <td>0</td>\n",
       "      <td>0</td>\n",
       "      <td>0</td>\n",
       "      <td>0</td>\n",
       "      <td>0</td>\n",
       "      <td>0</td>\n",
       "      <td>1</td>\n",
       "    </tr>\n",
       "  </tbody>\n",
       "</table>\n",
       "<p>5 rows × 40 columns</p>\n",
       "</div>"
      ],
      "text/plain": [
       "                                           permalink  \\\n",
       "0  /organization/advanced-northern-graphite-leade...   \n",
       "1                 /organization/celebration-creation   \n",
       "2                            /organization/justparts   \n",
       "3                          /organization/knighthaven   \n",
       "4  /organization/kotch-international-transportati...   \n",
       "\n",
       "                                                name  \\\n",
       "0                 Advanced Northern Graphite Leaders   \n",
       "1                               Celebration Creation   \n",
       "2                                          JustParts   \n",
       "3                                        KnightHaven   \n",
       "4  Kotch International Transportation Design Spec...   \n",
       "\n",
       "                        homepage_url                   category_list  \\\n",
       "0              http://www.anglinc.ca              |Clean Technology|   \n",
       "1  http://www.celebrationcreation.ca                   |Real Estate|   \n",
       "2           http://www.JustParts.com  |Auto|Marketplaces|E-Commerce|   \n",
       "3        http://www.knighthaven.com/           |Entertainment|Games|   \n",
       "4    http://www.kotchexotictours.com                |Transportation|   \n",
       "\n",
       "              market   funding_total_usd (divide by 1000)     status  \\\n",
       "0   Clean Technology                                    0  operating   \n",
       "1        Real Estate                                    0  operating   \n",
       "2       Marketplaces                                    0  operating   \n",
       "3              Games                                    0  operating   \n",
       "4     Transportation                                    0  operating   \n",
       "\n",
       "  country_code state_code         region  ... product_crowdfunding  round_A  \\\n",
       "0          CAN         AB  Sherwood Park  ...                    0        0   \n",
       "1          CAN         AB        Calgary  ...                    0        0   \n",
       "2          CAN         AB    Thunder Bay  ...                    0        0   \n",
       "3          CAN         AB     AB - Other  ...                    0        0   \n",
       "4          CAN         AB     AB - Other  ...                    0        0   \n",
       "\n",
       "  round_B round_C round_D  round_E round_F round_G  round_H  success  \n",
       "0       0       0       0        0       0       0        0        1  \n",
       "1       0       0       0        0       0       0        0        1  \n",
       "2       0       0       0        0       0       0        0        1  \n",
       "3       0       0       0        0       0       0        0        1  \n",
       "4       0       0       0        0       0       0        0        1  \n",
       "\n",
       "[5 rows x 40 columns]"
      ]
     },
     "execution_count": 2,
     "metadata": {},
     "output_type": "execute_result"
    }
   ],
   "source": [
    "df = pd.read_excel('C://Users//shiya//Documents//Dev//Startup-Success-Predictor//Clean//after.xlsx')\n",
    "df.head()"
   ]
  },
  {
   "cell_type": "markdown",
   "metadata": {},
   "source": [
    "#### Choose relevant columns (funding_total_usd, success, country_code, founded_year) and set it to df_model"
   ]
  },
  {
   "cell_type": "code",
   "execution_count": 41,
   "metadata": {},
   "outputs": [
    {
     "name": "stdout",
     "output_type": "stream",
     "text": [
      "       success  funding_total_usd (divide by 1000)  founded_year\n",
      "0            1                                   0          2012\n",
      "1            1                                   0          2011\n",
      "2            1                                   0          2006\n",
      "3            1                                   0          2011\n",
      "4            1                                   0          2014\n",
      "...        ...                                 ...           ...\n",
      "22217        1                             9950002          2008\n",
      "22218        1                             9952199          2012\n",
      "22219        1                             9957650          1997\n",
      "22220        1                             9990000          2011\n",
      "22221        1                             9999999          2000\n",
      "\n",
      "[22222 rows x 3 columns]\n"
     ]
    }
   ],
   "source": [
    "df_model = df[['success','funding_total_usd (divide by 1000)','founded_year']]\n",
    "print(df_model)"
   ]
  },
  {
   "cell_type": "markdown",
   "metadata": {},
   "source": [
    "#### Get dummy data"
   ]
  },
  {
   "cell_type": "code",
   "execution_count": 42,
   "metadata": {},
   "outputs": [
    {
     "name": "stdout",
     "output_type": "stream",
     "text": [
      "       success  funding_total_usd (divide by 1000)  founded_year\n",
      "0            1                                   0          2012\n",
      "1            1                                   0          2011\n",
      "2            1                                   0          2006\n",
      "3            1                                   0          2011\n",
      "4            1                                   0          2014\n",
      "...        ...                                 ...           ...\n",
      "22217        1                             9950002          2008\n",
      "22218        1                             9952199          2012\n",
      "22219        1                             9957650          1997\n",
      "22220        1                             9990000          2011\n",
      "22221        1                             9999999          2000\n",
      "\n",
      "[22222 rows x 3 columns]\n"
     ]
    }
   ],
   "source": [
    "df_dummie = pd.get_dummies(df_model)\n",
    "print(df_dummie)"
   ]
  },
  {
   "cell_type": "markdown",
   "metadata": {},
   "source": [
    "#### Train test split\n",
    "- Create x variable (everything excluding success)\n",
    "- Create x and y variable\n",
    "- Split x and y train (80%) and test set (20%)"
   ]
  },
  {
   "cell_type": "code",
   "execution_count": 43,
   "metadata": {},
   "outputs": [
    {
     "name": "stdout",
     "output_type": "stream",
     "text": [
      "X\n",
      "        funding_total_usd (divide by 1000)  founded_year\n",
      "0                                       0          2012\n",
      "1                                       0          2011\n",
      "2                                       0          2006\n",
      "3                                       0          2011\n",
      "4                                       0          2014\n",
      "...                                   ...           ...\n",
      "22217                             9950002          2008\n",
      "22218                             9952199          2012\n",
      "22219                             9957650          1997\n",
      "22220                             9990000          2011\n",
      "22221                             9999999          2000\n",
      "\n",
      "[22222 rows x 2 columns]\n",
      "\n",
      "\n",
      "y\n",
      " [1 1 1 ... 1 1 1]\n",
      "       funding_total_usd (divide by 1000)  founded_year\n",
      "19881                              700000          2010\n",
      "11263                              250000          2012\n",
      "6271                             15000000          2003\n",
      "8300                              1199936          2012\n",
      "18798                              600000          2012\n",
      "...                                   ...           ...\n",
      "11964                             2000000          2012\n",
      "21575                             8600000          2009\n",
      "5390                             12000000          1999\n",
      "860                                     0          2013\n",
      "15795                              425000          2009\n",
      "\n",
      "[17777 rows x 2 columns] X_train\n",
      "        funding_total_usd (divide by 1000)  founded_year\n",
      "1891                                    0          2013\n",
      "7558                              1000000          2011\n",
      "5186                             11097772          2012\n",
      "7751                              1000000          2007\n",
      "8295                              1193912          2012\n",
      "...                                   ...           ...\n",
      "19442                             6000000          2012\n",
      "15644                            40500000          2010\n",
      "1586                                    0          1964\n",
      "6                                       0          2010\n",
      "2743                                  800          2010\n",
      "\n",
      "[4445 rows x 2 columns] X_test\n",
      " [1 1 1 ... 1 1 1] y_train\n",
      " [1 1 1 ... 1 1 1] y_test\n",
      "\n"
     ]
    }
   ],
   "source": [
    "from sklearn.model_selection import train_test_split\n",
    "\n",
    "X = df_dummie.drop('success', axis =1)\n",
    "y = df_dummie.success.values\n",
    "X_train, X_test, y_train, y_test = train_test_split(X, y, test_size=0.2, random_state=42)\n",
    "\n",
    "print('X\\n', X)\n",
    "print('\\n')\n",
    "print('y\\n', y)\n",
    "print(X_train,'X_train\\n', X_test, 'X_test\\n', y_train,'y_train\\n', y_test, 'y_test\\n')"
   ]
  },
  {
   "cell_type": "code",
   "execution_count": 44,
   "metadata": {},
   "outputs": [
    {
     "data": {
      "text/plain": [
       "((17777, 2), (17777,), (4445, 2), (4445,))"
      ]
     },
     "execution_count": 44,
     "metadata": {},
     "output_type": "execute_result"
    }
   ],
   "source": [
    "X_train.shape, y_train.shape, X_test.shape, y_test.shape"
   ]
  },
  {
   "cell_type": "markdown",
   "metadata": {},
   "source": [
    "#### Linear Regression\n",
    "- Create an instance of the class LinearRegression\n",
    "- Calculate the optimal values of the weights 𝑏₀ and 𝑏₁, using the existing input and output (x and y) as the arguments"
   ]
  },
  {
   "cell_type": "code",
   "execution_count": 45,
   "metadata": {},
   "outputs": [
    {
     "data": {
      "text/plain": [
       "LinearRegression(copy_X=True, fit_intercept=True, n_jobs=None,\n",
       "         normalize=False)"
      ]
     },
     "execution_count": 45,
     "metadata": {},
     "output_type": "execute_result"
    }
   ],
   "source": [
    "from sklearn.linear_model import LinearRegression\n",
    "\n",
    "model = LinearRegression()\n",
    "model.fit(X_train, y_train)"
   ]
  },
  {
   "cell_type": "markdown",
   "metadata": {},
   "source": [
    "#### Test ensembles\n",
    "- Get output coefficient of determination (𝑅²)\n",
    "- Get intercept and slope"
   ]
  },
  {
   "cell_type": "code",
   "execution_count": 46,
   "metadata": {},
   "outputs": [
    {
     "name": "stdout",
     "output_type": "stream",
     "text": [
      "coefficient of determination: 0.00010736079517037478\n",
      "\n",
      "\n",
      "intercept: 1.0037458005602544\n",
      "\n",
      "\n",
      "slope: [ 9.66022749e-12 -2.88902567e-05]\n"
     ]
    }
   ],
   "source": [
    "r_sq = model.score(X_train, y_train) # input predictor x and regressor y and output coefficient of determination (𝑅²) with \n",
    "print('coefficient of determination:', r_sq)\n",
    "print('\\n')\n",
    "print('intercept:', model.intercept_)\n",
    "print('\\n')\n",
    "print('slope:', model.coef_)"
   ]
  },
  {
   "cell_type": "markdown",
   "metadata": {},
   "source": [
    "#### Pickle the model \n",
    "- Turn model into API endpoint using Flask (productionization)"
   ]
  },
  {
   "cell_type": "code",
   "execution_count": 8,
   "metadata": {},
   "outputs": [
    {
     "data": {
      "text/plain": [
       "0.945163778298854"
      ]
     },
     "execution_count": 8,
     "metadata": {},
     "output_type": "execute_result"
    }
   ],
   "source": [
    "import pickle\n",
    "pickl = {'model': model.fit(X_train, y_train)}\n",
    "pickle.dump( pickl, open( 'model_file' + \".p\", \"wb\" ) )\n",
    "\n",
    "file_name = \"model_file.p\"\n",
    "with open(file_name, 'rb') as pickled:\n",
    "    data = pickle.load(pickled)\n",
    "    model = data['model']\n",
    "\n",
    "model.predict(np.array(list(X_test.iloc[1,:])).reshape(1,-1))[0]"
   ]
  },
  {
   "cell_type": "code",
   "execution_count": 9,
   "metadata": {},
   "outputs": [],
   "source": [
    "X_test = np.array(X_test)"
   ]
  },
  {
   "cell_type": "code",
   "execution_count": 10,
   "metadata": {},
   "outputs": [
    {
     "data": {
      "text/plain": [
       "array([   0, 2013,    0,    0,    0,    0,    0,    0,    0,    0,    0,\n",
       "          0,    0,    0,    0,    0,    0,    0,    0,    0,    0,    0,\n",
       "          0,    0,    0,    0,    0,    0,    0,    0,    0,    0,    0,\n",
       "          0,    0,    0,    0,    0,    0,    0,    0,    0,    0,    0,\n",
       "          0,    0,    0,    0,    0,    0,    0,    0,    0,    1,    0],\n",
       "      dtype=int64)"
      ]
     },
     "execution_count": 10,
     "metadata": {},
     "output_type": "execute_result"
    }
   ],
   "source": [
    "X_test[0]"
   ]
  },
  {
   "cell_type": "code",
   "execution_count": 47,
   "metadata": {},
   "outputs": [
    {
     "data": {
      "text/plain": [
       "0.9437570303712036"
      ]
     },
     "execution_count": 47,
     "metadata": {},
     "output_type": "execute_result"
    }
   ],
   "source": [
    "from sklearn.metrics import accuracy_score\n",
    "accuracy_score(y_test, np.around(model.predict(X_test),0))"
   ]
  },
  {
   "cell_type": "code",
   "execution_count": 48,
   "metadata": {},
   "outputs": [],
   "source": [
    "predictions = model.predict(X_test)\n",
    "answer = list(np.around(predictions,0) == y_test)"
   ]
  },
  {
   "cell_type": "code",
   "execution_count": 49,
   "metadata": {},
   "outputs": [
    {
     "data": {
      "text/plain": [
       "0.9437570303712036"
      ]
     },
     "execution_count": 49,
     "metadata": {},
     "output_type": "execute_result"
    }
   ],
   "source": [
    "acc = answer.count(True) / len(answer)\n",
    "acc"
   ]
  },
  {
   "cell_type": "code",
   "execution_count": 50,
   "metadata": {},
   "outputs": [],
   "source": [
    "from sklearn.metrics import classification_report\n"
   ]
  },
  {
   "cell_type": "code",
   "execution_count": 52,
   "metadata": {},
   "outputs": [
    {
     "name": "stdout",
     "output_type": "stream",
     "text": [
      "              precision    recall  f1-score   support\n",
      "\n",
      "           0       0.00      0.00      0.00       250\n",
      "           1       0.94      1.00      0.97      4195\n",
      "\n",
      "   micro avg       0.94      0.94      0.94      4445\n",
      "   macro avg       0.47      0.50      0.49      4445\n",
      "weighted avg       0.89      0.94      0.92      4445\n",
      "\n"
     ]
    },
    {
     "name": "stderr",
     "output_type": "stream",
     "text": [
      "C:\\Users\\shiya\\Anaconda3\\lib\\site-packages\\sklearn\\metrics\\classification.py:1143: UndefinedMetricWarning: Precision and F-score are ill-defined and being set to 0.0 in labels with no predicted samples.\n",
      "  'precision', 'predicted', average, warn_for)\n"
     ]
    }
   ],
   "source": [
    "print(classification_report(y_test, np.around(model.predict(X_test),0)))"
   ]
  },
  {
   "cell_type": "code",
   "execution_count": null,
   "metadata": {},
   "outputs": [],
   "source": []
  }
 ],
 "metadata": {
  "kernelspec": {
   "display_name": "Python 3",
   "language": "python",
   "name": "python3"
  },
  "language_info": {
   "codemirror_mode": {
    "name": "ipython",
    "version": 3
   },
   "file_extension": ".py",
   "mimetype": "text/x-python",
   "name": "python",
   "nbconvert_exporter": "python",
   "pygments_lexer": "ipython3",
   "version": "3.7.3"
  }
 },
 "nbformat": 4,
 "nbformat_minor": 2
}
