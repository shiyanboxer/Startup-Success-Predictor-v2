{
 "cells": [
  {
   "cell_type": "markdown",
   "metadata": {},
   "source": [
    "#### Description\n",
    "- Predicts Success/Status which can be operating\", \"acquired\", or \"closed\" based on total funding, founding year\n",
    "- Split data 80% training and 20% testing\n",
    "- Train on linear regression\n",
    "- Pickle / serialize in bit form the model\n"
   ]
  },
  {
   "cell_type": "markdown",
   "metadata": {},
   "source": [
    "#### Import dependencies"
   ]
  },
  {
   "cell_type": "code",
   "execution_count": 1,
   "metadata": {},
   "outputs": [],
   "source": [
    "import pandas as pd\n",
    "import numpy as np"
   ]
  },
  {
   "cell_type": "markdown",
   "metadata": {},
   "source": [
    "#### Read file into DataFrame\n",
    "- Open the xlsx file and store the DataFrame in variable \"df\"\n",
    "- Print the first 5 lines of the file using the head() function"
   ]
  },
  {
   "cell_type": "code",
   "execution_count": 2,
   "metadata": {
    "scrolled": true
   },
   "outputs": [
    {
     "data": {
      "text/html": [
       "<div>\n",
       "<style scoped>\n",
       "    .dataframe tbody tr th:only-of-type {\n",
       "        vertical-align: middle;\n",
       "    }\n",
       "\n",
       "    .dataframe tbody tr th {\n",
       "        vertical-align: top;\n",
       "    }\n",
       "\n",
       "    .dataframe thead th {\n",
       "        text-align: right;\n",
       "    }\n",
       "</style>\n",
       "<table border=\"1\" class=\"dataframe\">\n",
       "  <thead>\n",
       "    <tr style=\"text-align: right;\">\n",
       "      <th></th>\n",
       "      <th>permalink</th>\n",
       "      <th>name</th>\n",
       "      <th>homepage_url</th>\n",
       "      <th>category_list</th>\n",
       "      <th>market</th>\n",
       "      <th>funding_total_usd</th>\n",
       "      <th>status</th>\n",
       "      <th>country_code</th>\n",
       "      <th>state_code</th>\n",
       "      <th>region</th>\n",
       "      <th>...</th>\n",
       "      <th>product_crowdfunding</th>\n",
       "      <th>round_A</th>\n",
       "      <th>round_B</th>\n",
       "      <th>round_C</th>\n",
       "      <th>round_D</th>\n",
       "      <th>round_E</th>\n",
       "      <th>round_F</th>\n",
       "      <th>round_G</th>\n",
       "      <th>round_H</th>\n",
       "      <th>success</th>\n",
       "    </tr>\n",
       "  </thead>\n",
       "  <tbody>\n",
       "    <tr>\n",
       "      <th>0</th>\n",
       "      <td>/organization/advanced-northern-graphite-leade...</td>\n",
       "      <td>Advanced Northern Graphite Leaders</td>\n",
       "      <td>http://www.anglinc.ca</td>\n",
       "      <td>|Clean Technology|</td>\n",
       "      <td>Clean Technology</td>\n",
       "      <td>0</td>\n",
       "      <td>operating</td>\n",
       "      <td>CAN</td>\n",
       "      <td>AB</td>\n",
       "      <td>Sherwood Park</td>\n",
       "      <td>...</td>\n",
       "      <td>0</td>\n",
       "      <td>0</td>\n",
       "      <td>0</td>\n",
       "      <td>0</td>\n",
       "      <td>0</td>\n",
       "      <td>0</td>\n",
       "      <td>0</td>\n",
       "      <td>0</td>\n",
       "      <td>0</td>\n",
       "      <td>1</td>\n",
       "    </tr>\n",
       "    <tr>\n",
       "      <th>1</th>\n",
       "      <td>/organization/celebration-creation</td>\n",
       "      <td>Celebration Creation</td>\n",
       "      <td>http://www.celebrationcreation.ca</td>\n",
       "      <td>|Real Estate|</td>\n",
       "      <td>Real Estate</td>\n",
       "      <td>0</td>\n",
       "      <td>operating</td>\n",
       "      <td>CAN</td>\n",
       "      <td>AB</td>\n",
       "      <td>Calgary</td>\n",
       "      <td>...</td>\n",
       "      <td>0</td>\n",
       "      <td>0</td>\n",
       "      <td>0</td>\n",
       "      <td>0</td>\n",
       "      <td>0</td>\n",
       "      <td>0</td>\n",
       "      <td>0</td>\n",
       "      <td>0</td>\n",
       "      <td>0</td>\n",
       "      <td>1</td>\n",
       "    </tr>\n",
       "    <tr>\n",
       "      <th>2</th>\n",
       "      <td>/organization/justparts</td>\n",
       "      <td>JustParts</td>\n",
       "      <td>http://www.JustParts.com</td>\n",
       "      <td>|Auto|Marketplaces|E-Commerce|</td>\n",
       "      <td>Marketplaces</td>\n",
       "      <td>0</td>\n",
       "      <td>operating</td>\n",
       "      <td>CAN</td>\n",
       "      <td>AB</td>\n",
       "      <td>Thunder Bay</td>\n",
       "      <td>...</td>\n",
       "      <td>0</td>\n",
       "      <td>0</td>\n",
       "      <td>0</td>\n",
       "      <td>0</td>\n",
       "      <td>0</td>\n",
       "      <td>0</td>\n",
       "      <td>0</td>\n",
       "      <td>0</td>\n",
       "      <td>0</td>\n",
       "      <td>1</td>\n",
       "    </tr>\n",
       "    <tr>\n",
       "      <th>3</th>\n",
       "      <td>/organization/knighthaven</td>\n",
       "      <td>KnightHaven</td>\n",
       "      <td>http://www.knighthaven.com/</td>\n",
       "      <td>|Entertainment|Games|</td>\n",
       "      <td>Games</td>\n",
       "      <td>0</td>\n",
       "      <td>operating</td>\n",
       "      <td>CAN</td>\n",
       "      <td>AB</td>\n",
       "      <td>AB - Other</td>\n",
       "      <td>...</td>\n",
       "      <td>0</td>\n",
       "      <td>0</td>\n",
       "      <td>0</td>\n",
       "      <td>0</td>\n",
       "      <td>0</td>\n",
       "      <td>0</td>\n",
       "      <td>0</td>\n",
       "      <td>0</td>\n",
       "      <td>0</td>\n",
       "      <td>1</td>\n",
       "    </tr>\n",
       "    <tr>\n",
       "      <th>4</th>\n",
       "      <td>/organization/kotch-international-transportati...</td>\n",
       "      <td>Kotch International Transportation Design Spec...</td>\n",
       "      <td>http://www.kotchexotictours.com</td>\n",
       "      <td>|Transportation|</td>\n",
       "      <td>Transportation</td>\n",
       "      <td>0</td>\n",
       "      <td>operating</td>\n",
       "      <td>CAN</td>\n",
       "      <td>AB</td>\n",
       "      <td>AB - Other</td>\n",
       "      <td>...</td>\n",
       "      <td>0</td>\n",
       "      <td>0</td>\n",
       "      <td>0</td>\n",
       "      <td>0</td>\n",
       "      <td>0</td>\n",
       "      <td>0</td>\n",
       "      <td>0</td>\n",
       "      <td>0</td>\n",
       "      <td>0</td>\n",
       "      <td>1</td>\n",
       "    </tr>\n",
       "  </tbody>\n",
       "</table>\n",
       "<p>5 rows × 40 columns</p>\n",
       "</div>"
      ],
      "text/plain": [
       "                                           permalink  \\\n",
       "0  /organization/advanced-northern-graphite-leade...   \n",
       "1                 /organization/celebration-creation   \n",
       "2                            /organization/justparts   \n",
       "3                          /organization/knighthaven   \n",
       "4  /organization/kotch-international-transportati...   \n",
       "\n",
       "                                                name  \\\n",
       "0                 Advanced Northern Graphite Leaders   \n",
       "1                               Celebration Creation   \n",
       "2                                          JustParts   \n",
       "3                                        KnightHaven   \n",
       "4  Kotch International Transportation Design Spec...   \n",
       "\n",
       "                        homepage_url                   category_list  \\\n",
       "0              http://www.anglinc.ca              |Clean Technology|   \n",
       "1  http://www.celebrationcreation.ca                   |Real Estate|   \n",
       "2           http://www.JustParts.com  |Auto|Marketplaces|E-Commerce|   \n",
       "3        http://www.knighthaven.com/           |Entertainment|Games|   \n",
       "4    http://www.kotchexotictours.com                |Transportation|   \n",
       "\n",
       "              market   funding_total_usd     status country_code state_code  \\\n",
       "0   Clean Technology                   0  operating          CAN         AB   \n",
       "1        Real Estate                   0  operating          CAN         AB   \n",
       "2       Marketplaces                   0  operating          CAN         AB   \n",
       "3              Games                   0  operating          CAN         AB   \n",
       "4     Transportation                   0  operating          CAN         AB   \n",
       "\n",
       "          region  ... product_crowdfunding  round_A round_B round_C round_D  \\\n",
       "0  Sherwood Park  ...                    0        0       0       0       0   \n",
       "1        Calgary  ...                    0        0       0       0       0   \n",
       "2    Thunder Bay  ...                    0        0       0       0       0   \n",
       "3     AB - Other  ...                    0        0       0       0       0   \n",
       "4     AB - Other  ...                    0        0       0       0       0   \n",
       "\n",
       "   round_E round_F round_G  round_H  success  \n",
       "0        0       0       0        0        1  \n",
       "1        0       0       0        0        1  \n",
       "2        0       0       0        0        1  \n",
       "3        0       0       0        0        1  \n",
       "4        0       0       0        0        1  \n",
       "\n",
       "[5 rows x 40 columns]"
      ]
     },
     "execution_count": 2,
     "metadata": {},
     "output_type": "execute_result"
    }
   ],
   "source": [
    "df = pd.read_excel('after.xlsx')\n",
    "df.head()"
   ]
  },
  {
   "cell_type": "markdown",
   "metadata": {},
   "source": [
    "#### Choose relevant columns (funding_total_usd, success, country_code, founded_year) and assign the filtered dataset to a variable called \"df_model\""
   ]
  },
  {
   "cell_type": "code",
   "execution_count": 3,
   "metadata": {},
   "outputs": [
    {
     "name": "stdout",
     "output_type": "stream",
     "text": [
      "       success  funding_total_usd  founded_year\n",
      "0            1                  0          2012\n",
      "1            1                  0          2011\n",
      "2            1                  0          2006\n",
      "3            1                  0          2011\n",
      "4            1                  0          2014\n",
      "...        ...                ...           ...\n",
      "22217        1                  0          2008\n",
      "22218        1                  0          2012\n",
      "22219        1                  0          1997\n",
      "22220        1                  0          2011\n",
      "22221        1                  0          2000\n",
      "\n",
      "[22222 rows x 3 columns]\n"
     ]
    }
   ],
   "source": [
    "df_model = df[['success','funding_total_usd','founded_year']]\n",
    "print(df_model)"
   ]
  },
  {
   "cell_type": "markdown",
   "metadata": {},
   "source": [
    "#### Get dummy data on  df_model\n",
    "- Using the get_dummies() [pandas function](https://pandas.pydata.org/pandas-docs/stable/reference/api/pandas.get_dummies.html) which converts categorical variable into dummy/indicator variables."
   ]
  },
  {
   "cell_type": "code",
   "execution_count": 4,
   "metadata": {},
   "outputs": [
    {
     "name": "stdout",
     "output_type": "stream",
     "text": [
      "       success  funding_total_usd  founded_year\n",
      "0            1                  0          2012\n",
      "1            1                  0          2011\n",
      "2            1                  0          2006\n",
      "3            1                  0          2011\n",
      "4            1                  0          2014\n",
      "...        ...                ...           ...\n",
      "22217        1                  0          2008\n",
      "22218        1                  0          2012\n",
      "22219        1                  0          1997\n",
      "22220        1                  0          2011\n",
      "22221        1                  0          2000\n",
      "\n",
      "[22222 rows x 3 columns]\n"
     ]
    }
   ],
   "source": [
    "df_dummie = pd.get_dummies(df_model)\n",
    "print(df_dummie)"
   ]
  },
  {
   "cell_type": "markdown",
   "metadata": {},
   "source": [
    "#### Train test split\n",
    "- Create x variable (everything excluding \"success\")\n",
    "- Create y variable (\"success\" values)\n",
    "- Split x and y train (80%) and test set (20%)"
   ]
  },
  {
   "cell_type": "code",
   "execution_count": 5,
   "metadata": {},
   "outputs": [
    {
     "name": "stdout",
     "output_type": "stream",
     "text": [
      "       funding_total_usd  founded_year\n",
      "0                      0          2012\n",
      "1                      0          2011\n",
      "2                      0          2006\n",
      "3                      0          2011\n",
      "4                      0          2014\n",
      "...                  ...           ...\n",
      "22217                  0          2008\n",
      "22218                  0          2012\n",
      "22219                  0          1997\n",
      "22220                  0          2011\n",
      "22221                  0          2000\n",
      "\n",
      "[22222 rows x 2 columns] [1 1 1 ... 1 1 1]\n",
      "       funding_total_usd  founded_year\n",
      "19881                  0          2010\n",
      "11263                  0          2012\n",
      "6271                   0          2003\n",
      "8300                   0          2012\n",
      "18798                  0          2012\n",
      "...                  ...           ...\n",
      "11964                  0          2012\n",
      "21575                  0          2009\n",
      "5390                   0          1999\n",
      "860                    0          2013\n",
      "15795                  0          2009\n",
      "\n",
      "[17777 rows x 2 columns]        funding_total_usd  founded_year\n",
      "1891                   0          2013\n",
      "7558                   0          2011\n",
      "5186                   0          2012\n",
      "7751                   0          2007\n",
      "8295                   0          2012\n",
      "...                  ...           ...\n",
      "19442                  0          2012\n",
      "15644                  0          2010\n",
      "1586                   0          1964\n",
      "6                      0          2010\n",
      "2743                   0          2010\n",
      "\n",
      "[4445 rows x 2 columns] [1 1 1 ... 1 1 1] [1 1 1 ... 1 1 1]\n"
     ]
    },
    {
     "data": {
      "text/plain": [
       "((17777, 2), (17777,), (4445, 2), (4445,))"
      ]
     },
     "execution_count": 5,
     "metadata": {},
     "output_type": "execute_result"
    }
   ],
   "source": [
    "from sklearn.model_selection import train_test_split\n",
    "\n",
    "# Create x and y variables\n",
    "X = df_dummie.drop('success', axis =1) # axis = 1 means drop column\n",
    "y = df_dummie.success.values\n",
    "\n",
    "# Create train and test sets\n",
    "X_train, X_test, y_train, y_test = train_test_split(X, y, test_size=0.2, random_state=42)\n",
    "\n",
    "# Print the data\n",
    "print(X, y)\n",
    "print(X_train, X_test, y_train,y_test)\n",
    "X_train.shape, y_train.shape, X_test.shape, y_test.shape"
   ]
  },
  {
   "cell_type": "markdown",
   "metadata": {},
   "source": [
    "#### Train with Linear Regression\n",
    "- Create an instance of the class LinearRegression\n",
    "- Calculate the optimal values of the weights 𝑏₀ and 𝑏₁, using the existing input and output (x and y) as the arguments"
   ]
  },
  {
   "cell_type": "code",
   "execution_count": 6,
   "metadata": {},
   "outputs": [
    {
     "name": "stdout",
     "output_type": "stream",
     "text": [
      "LinearRegression()\n"
     ]
    }
   ],
   "source": [
    "from sklearn.linear_model import LinearRegression\n",
    "\n",
    "model = LinearRegression()\n",
    "model.fit(X_train, y_train) # Fit linear model fit(X, y[, sample_weight])\n",
    "print(model)"
   ]
  },
  {
   "cell_type": "markdown",
   "metadata": {},
   "source": [
    "#### Train with Decision Tree"
   ]
  },
  {
   "cell_type": "code",
   "execution_count": 7,
   "metadata": {},
   "outputs": [],
   "source": [
    "# https://scikit-learn.org/stable/modules/tree.html#classification\n",
    "from sklearn import tree\n",
    "\n",
    "model_2 = tree.DecisionTreeClassifier()\n",
    "model_2 = model_2.fit(X_train, y_train)"
   ]
  },
  {
   "cell_type": "markdown",
   "metadata": {},
   "source": [
    "#### Get Score - Linear Regression\n",
    "- Get output coefficient of determination (𝑅²)\n",
    "- Get intercept and slope"
   ]
  },
  {
   "cell_type": "code",
   "execution_count": 8,
   "metadata": {},
   "outputs": [
    {
     "name": "stdout",
     "output_type": "stream",
     "text": [
      "coefficient of determination: 2.589753489323776e-06\n",
      "\n",
      "\n",
      "intercept: 1.0414482173331012\n",
      "\n",
      "\n",
      "slope: [ 0.00000000e+00 -4.75896619e-05]\n"
     ]
    }
   ],
   "source": [
    "r_sq = model.score(X_train, y_train) # input predictor x and regressor y and output coefficient of determination (𝑅²) with \n",
    "print('coefficient of determination:', r_sq)\n",
    "print('\\n')\n",
    "print('intercept:', model.intercept_)\n",
    "print('\\n')\n",
    "print('slope:', model.coef_)"
   ]
  },
  {
   "cell_type": "markdown",
   "metadata": {},
   "source": [
    "#### Get Classification Report - Linear Regression"
   ]
  },
  {
   "cell_type": "code",
   "execution_count": 9,
   "metadata": {},
   "outputs": [
    {
     "name": "stdout",
     "output_type": "stream",
     "text": [
      "              precision    recall  f1-score   support\n",
      "\n",
      "           0       0.00      0.00      0.00       250\n",
      "           1       0.94      1.00      0.97      4195\n",
      "\n",
      "    accuracy                           0.94      4445\n",
      "   macro avg       0.47      0.50      0.49      4445\n",
      "weighted avg       0.89      0.94      0.92      4445\n",
      "\n"
     ]
    },
    {
     "name": "stderr",
     "output_type": "stream",
     "text": [
      "/Library/Frameworks/Python.framework/Versions/3.10/lib/python3.10/site-packages/sklearn/metrics/_classification.py:1334: UndefinedMetricWarning: Precision and F-score are ill-defined and being set to 0.0 in labels with no predicted samples. Use `zero_division` parameter to control this behavior.\n",
      "  _warn_prf(average, modifier, msg_start, len(result))\n",
      "/Library/Frameworks/Python.framework/Versions/3.10/lib/python3.10/site-packages/sklearn/metrics/_classification.py:1334: UndefinedMetricWarning: Precision and F-score are ill-defined and being set to 0.0 in labels with no predicted samples. Use `zero_division` parameter to control this behavior.\n",
      "  _warn_prf(average, modifier, msg_start, len(result))\n",
      "/Library/Frameworks/Python.framework/Versions/3.10/lib/python3.10/site-packages/sklearn/metrics/_classification.py:1334: UndefinedMetricWarning: Precision and F-score are ill-defined and being set to 0.0 in labels with no predicted samples. Use `zero_division` parameter to control this behavior.\n",
      "  _warn_prf(average, modifier, msg_start, len(result))\n"
     ]
    }
   ],
   "source": [
    "from sklearn.metrics import classification_report\n",
    "print(classification_report(y_test, np.around(model.predict(X_test),0)))"
   ]
  },
  {
   "cell_type": "markdown",
   "metadata": {},
   "source": [
    "#### Test Accuracy - Linear Regression"
   ]
  },
  {
   "cell_type": "code",
   "execution_count": 10,
   "metadata": {},
   "outputs": [
    {
     "data": {
      "text/plain": [
       "0.9437570303712036"
      ]
     },
     "execution_count": 10,
     "metadata": {},
     "output_type": "execute_result"
    }
   ],
   "source": [
    "from sklearn.metrics import accuracy_score, precision_score\n",
    "y_pred = np.around(model.predict(X_test),0)\n",
    "accuracy_score(y_test, y_pred) * 100\n",
    "precision_score(y_test, y_pred, average='micro')\n"
   ]
  },
  {
   "cell_type": "markdown",
   "metadata": {},
   "source": [
    "#### Pickle the model \n",
    "- Pickle the model so it can be loaded in the Flask API to be called for making predictions"
   ]
  },
  {
   "cell_type": "code",
   "execution_count": 11,
   "metadata": {},
   "outputs": [],
   "source": [
    "import pickle\n",
    "pickl = {'model': model.fit(X_train, y_train)}\n",
    "pickle.dump( pickl, open( 'model_file' + \".p\", \"wb\" ) )\n",
    "\n",
    "file_name = \"model_file.p\"\n",
    "with open(file_name, 'rb') as pickled:\n",
    "    data = pickle.load(pickled)\n",
    "    model = data['model']"
   ]
  }
 ],
 "metadata": {
  "kernelspec": {
   "display_name": "Python 3.10.5 64-bit",
   "language": "python",
   "name": "python3"
  },
  "language_info": {
   "codemirror_mode": {
    "name": "ipython",
    "version": 3
   },
   "file_extension": ".py",
   "mimetype": "text/x-python",
   "name": "python",
   "nbconvert_exporter": "python",
   "pygments_lexer": "ipython3",
   "version": "3.10.5"
  },
  "vscode": {
   "interpreter": {
    "hash": "aee8b7b246df8f9039afb4144a1f6fd8d2ca17a180786b69acc140d282b71a49"
   }
  }
 },
 "nbformat": 4,
 "nbformat_minor": 2
}
